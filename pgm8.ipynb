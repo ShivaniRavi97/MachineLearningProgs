{
 "cells": [
  {
   "cell_type": "code",
   "execution_count": 1,
   "metadata": {},
   "outputs": [
    {
     "name": "stderr",
     "output_type": "stream",
     "text": [
      "C:\\Users\\Shivani\\Anaconda3\\envs\\modi\\lib\\site-packages\\ipykernel_launcher.py:25: MatplotlibDeprecationWarning: Adding an axes using the same arguments as a previous axes currently reuses the earlier instance.  In a future version, a new instance will always be created and returned.  Meanwhile, this warning can be suppressed, and the future behavior ensured, by passing a unique label to each axes instance.\n"
     ]
    },
    {
     "name": "stdout",
     "output_type": "stream",
     "text": [
      "Observation:The GMM using EM algo based clustering matched the true labels more closely than KMeans.\n"
     ]
    }
   ],
   "source": [
    "import matplotlib.pyplot as plt\n",
    "from sklearn import datasets\n",
    "from sklearn.cluster import KMeans\n",
    "import pandas as pd\n",
    "import numpy as np\n",
    "iris=datasets.load_iris()\n",
    "X=pd.DataFrame(iris.data)\n",
    "X.columns=['Sepal_Length','Sepal_Width','Petal_Length','Petal_Width']\n",
    "y=pd.DataFrame(iris.target)\n",
    "y.columns=['Targets']\n",
    "model=KMeans(n_clusters=3)\n",
    "model.fit(X)\n",
    "plt.figure(figsize=(14,14))\n",
    "colormap=np.array(['red','lime','black'])\n",
    "plt.subplot(2,2,1)\n",
    "plt.scatter(X.Petal_Length,X.Petal_Width,c=colormap[y.Targets],s=40)\n",
    "plt.title('Real Clusters')\n",
    "plt.xlabel('Petal Length')\n",
    "plt.ylabel('Petal width')\n",
    "plt.subplot(2,2,2)\n",
    "plt.scatter(X.Petal_Length,X.Petal_Width,c=colormap[model.labels_],s=40)\n",
    "plt.title('K-Means Clustering')\n",
    "plt.xlabel('Petal Length')\n",
    "plt.ylabel('Petal Width')\n",
    "plt.subplot(2,2,2)\n",
    "plt.scatter(X.Petal_Length,X.Petal_Width,c=colormap[model.labels_],s=40)\n",
    "plt.title('K-Means Clustering')\n",
    "plt.ylabel('Petal Width')\n",
    "from sklearn import preprocessing\n",
    "scaler=preprocessing.StandardScaler()\n",
    "scaler.fit(X)\n",
    "xsa=scaler.transform(X)\n",
    "xs=pd.DataFrame(xsa,columns=X.columns)\n",
    "from sklearn.mixture import GaussianMixture\n",
    "gmm=GaussianMixture(n_components=3)\n",
    "gmm.fit(xs)\n",
    "gmm_y=gmm.predict(xs)\n",
    "plt.subplot(2,2,3)\n",
    "plt.scatter(X.Petal_Length,X.Petal_Width,c=colormap[gmm_y],s=40)\n",
    "plt.title('GMM Clustering')\n",
    "plt.xlabel('Petal Length')\n",
    "plt.ylabel('Petal width')\n",
    "print('Observation:The GMM using EM algo based clustering matched the true labels more closely than KMeans.')\n",
    "\n"
   ]
  },
  {
   "cell_type": "code",
   "execution_count": null,
   "metadata": {},
   "outputs": [],
   "source": []
  }
 ],
 "metadata": {
  "kernelspec": {
   "display_name": "Python 3",
   "language": "python",
   "name": "python3"
  },
  "language_info": {
   "codemirror_mode": {
    "name": "ipython",
    "version": 3
   },
   "file_extension": ".py",
   "mimetype": "text/x-python",
   "name": "python",
   "nbconvert_exporter": "python",
   "pygments_lexer": "ipython3",
   "version": "3.6.8"
  }
 },
 "nbformat": 4,
 "nbformat_minor": 2
}
