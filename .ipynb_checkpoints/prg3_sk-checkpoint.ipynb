{
 "cells": [
  {
   "cell_type": "code",
   "execution_count": 1,
   "metadata": {},
   "outputs": [
    {
     "name": "stdout",
     "output_type": "stream",
     "text": [
      "  day   outlook temperature humidity     wind play\n",
      "0  d1     sunny         hot     high     weak   no\n",
      "1  d2     sunny         hot     high  strong    no\n",
      "2  d3  overcast         hot     high     weak  yes\n",
      "3  d4      rain        mild     high     weak  yes\n",
      "4  d5      rain        cool   normal     weak  yes\n",
      "14.0\n",
      "14.0\n",
      "14.0\n",
      "14.0\n",
      "14.0\n",
      "5.0\n",
      "5.0\n",
      "5.0\n",
      "5.0\n",
      "5.0\n",
      "5.0\n",
      "\n",
      "\n",
      " The Resultant Decission Tree is:\n",
      "\n",
      "{'outlook': {'overcast': 'yes',\n",
      "             'rain': {'wind': {'strong ': 'no', 'weak': 'yes'}},\n",
      "             'sunny': {'humidity': {'high': 'no', 'normal': 'yes'}}}}\n"
     ]
    }
   ],
   "source": [
    "import pandas as pd\n",
    "import math\n",
    "from collections import Counter\n",
    "from pprint import pprint\n",
    "\n",
    "data=pd.read_csv('tennis.csv')\n",
    "print(data.head())\n",
    "attrs=list(data.columns)\n",
    "attrs.remove('play')\n",
    "attrs.remove('day')\n",
    "\n",
    "def entropy(probs):\n",
    "    return sum([-prob*math.log(prob,2) for prob in probs])\n",
    "\n",
    "def entropy_list(a_list):\n",
    "    count=Counter(x for x in a_list)\n",
    "    n= len(a_list)*1.0\n",
    "    probs=[x/n for x in count.values()]\n",
    "    return entropy(probs)\n",
    "\n",
    "total_entropy=entropy_list(data['play'])\n",
    "def information_gain(data, split_attr, target_attr, trace=1):\n",
    "    data_split= data.groupby(split_attr)\n",
    "    obs= len(data.index)*1.0\n",
    "    print(obs)\n",
    "    data_agg= data_split.agg({target_attr:[entropy_list,lambda x:len(x)/obs]})\n",
    "    data_agg.columns= ['Entropy','propobservations']\n",
    "    new_entropy= sum(data_agg['Entropy']*data_agg['propobservations'])\n",
    "    old_entropy= entropy_list(data[target_attr])\n",
    "    return old_entropy-new_entropy\n",
    "\n",
    "information_gain(data, 'outlook', 'play', trace=1)\n",
    "\n",
    "def id3(data,target_attr,attr_names,default_class=None):\n",
    "    cut= Counter(x for x in data[target_attr])\n",
    "    if len(cut)==1:\n",
    "        return next(iter(cut))\n",
    "    elif data.empty or (not attr_names):\n",
    "        return default_class\n",
    "    else:\n",
    "        default_class= max(cut.keys())\n",
    "        gain= [information_gain(data,attr,target_attr) for attr in attr_names]\n",
    "        index_max= gain.index(max(gain))\n",
    "        best_attr= attr_names[index_max]\n",
    "        tree= {best_attr:{}}\n",
    "        remaining_attr_names= [i for i in attr_names if i!=best_attr]\n",
    "        for attr_val,data_subset in data.groupby(best_attr):\n",
    "            subtree=id3(data_subset,target_attr,remaining_attr_names,default_class)\n",
    "            tree[best_attr][attr_val]=subtree\n",
    "    return tree\n",
    "tree=id3(data,'play',attrs)\n",
    "print(\"\\n\\n The Resultant Decission Tree is:\\n\")\n",
    "pprint(tree)\n"
   ]
  },
  {
   "cell_type": "code",
   "execution_count": null,
   "metadata": {},
   "outputs": [],
   "source": [
    "\n"
   ]
  },
  {
   "cell_type": "code",
   "execution_count": null,
   "metadata": {},
   "outputs": [],
   "source": []
  },
  {
   "cell_type": "code",
   "execution_count": null,
   "metadata": {},
   "outputs": [],
   "source": []
  },
  {
   "cell_type": "code",
   "execution_count": null,
   "metadata": {},
   "outputs": [],
   "source": []
  },
  {
   "cell_type": "code",
   "execution_count": null,
   "metadata": {},
   "outputs": [],
   "source": []
  },
  {
   "cell_type": "code",
   "execution_count": null,
   "metadata": {},
   "outputs": [],
   "source": []
  },
  {
   "cell_type": "code",
   "execution_count": null,
   "metadata": {},
   "outputs": [],
   "source": []
  },
  {
   "cell_type": "code",
   "execution_count": null,
   "metadata": {},
   "outputs": [],
   "source": []
  }
 ],
 "metadata": {
  "kernelspec": {
   "display_name": "Python 3",
   "language": "python",
   "name": "python3"
  },
  "language_info": {
   "codemirror_mode": {
    "name": "ipython",
    "version": 3
   },
   "file_extension": ".py",
   "mimetype": "text/x-python",
   "name": "python",
   "nbconvert_exporter": "python",
   "pygments_lexer": "ipython3",
   "version": "3.6.8"
  }
 },
 "nbformat": 4,
 "nbformat_minor": 2
}
