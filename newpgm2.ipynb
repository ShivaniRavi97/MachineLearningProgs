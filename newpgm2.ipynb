{
 "cells": [
  {
   "cell_type": "code",
   "execution_count": 4,
   "metadata": {},
   "outputs": [
    {
     "name": "stdout",
     "output_type": "stream",
     "text": [
      "S0 : ['sunny' 'warm' 'normal' 'strong' 'warm' 'same']\n",
      "G0 : [['?', '?', '?', '?', '?', '?'], ['?', '?', '?', '?', '?', '?'], ['?', '?', '?', '?', '?', '?'], ['?', '?', '?', '?', '?', '?'], ['?', '?', '?', '?', '?', '?'], ['?', '?', '?', '?', '?', '?']]\n",
      "S1 : ['sunny' 'warm' '?' 'strong' 'warm' 'same']\n",
      "G1 : [['?', '?', '?', '?', '?', '?'], ['?', '?', '?', '?', '?', '?'], ['?', '?', '?', '?', '?', '?'], ['?', '?', '?', '?', '?', '?'], ['?', '?', '?', '?', '?', '?'], ['?', '?', '?', '?', '?', '?']]\n",
      "S2 : ['sunny' 'warm' '?' 'strong' 'warm' 'same']\n",
      "G2 : [['sunny', '?', '?', '?', '?', '?'], ['?', 'warm', '?', '?', '?', '?'], ['?', '?', '?', '?', '?', '?'], ['?', '?', '?', '?', '?', '?'], ['?', '?', '?', '?', '?', '?'], ['?', '?', '?', '?', '?', 'same']]\n",
      "S3 : ['sunny' 'warm' '?' 'strong' '?' '?']\n",
      "G3 : [['sunny', '?', '?', '?', '?', '?'], ['?', 'warm', '?', '?', '?', '?'], ['?', '?', '?', '?', '?', '?'], ['?', '?', '?', '?', '?', '?'], ['?', '?', '?', '?', '?', '?'], ['?', '?', '?', '?', '?', '?']]\n",
      "Final S :  ['sunny' 'warm' '?' 'strong' '?' '?']\n",
      "Final G :  [['sunny', '?', '?', '?', '?', '?'], ['?', 'warm', '?', '?', '?', '?']]\n"
     ]
    }
   ],
   "source": [
    "import numpy as np\n",
    "import pandas as pd\n",
    "data=pd.read_csv('lab2.csv')\n",
    "concept = np.array(data.iloc[:,0:-1])\n",
    "target = np.array(data.iloc[:,-1])\n",
    "def learner(concept,target):\n",
    "    count = 0\n",
    "    for i, val in enumerate(target):\n",
    "        if val == 'yes':\n",
    "            specific_h = concept[i].copy()\n",
    "            break\n",
    "    generic_h = [[\"?\" for i in range(len(specific_h))] for i in range(len(specific_h))]\n",
    "    for i, val in enumerate(concept):\n",
    "        if target[i] == 'yes':\n",
    "            for x in range(len(specific_h)):\n",
    "                if val[x]!=specific_h[x]:\n",
    "                    specific_h[x] = \"?\"\n",
    "                    generic_h[x][x] = \"?\"\n",
    "        if target[i] == \"no\":\n",
    "            for x in range(len(specific_h)):\n",
    "                if val[x]!=specific_h[x]:\n",
    "                    generic_h[x][x] = specific_h[x]\n",
    "                else:\n",
    "                    generic_h[x][x] = \"?\"\n",
    "        \n",
    "        print(f'S{count} : {specific_h}')\n",
    "        print(f'G{count} : {generic_h}')\n",
    "        count+=1\n",
    "    indices = [i for i, val in enumerate(generic_h) if val==['?','?','?','?','?','?']]\n",
    "    for i in indices:\n",
    "        generic_h.remove(['?','?','?','?','?','?'])\n",
    "    return specific_h, generic_h\n",
    "S_final , G_final = learner(concept,target)\n",
    "print(\"Final S : \",S_final)\n",
    "print(\"Final G : \",G_final)"
   ]
  },
  {
   "cell_type": "code",
   "execution_count": null,
   "metadata": {},
   "outputs": [],
   "source": []
  }
 ],
 "metadata": {
  "kernelspec": {
   "display_name": "Python 3",
   "language": "python",
   "name": "python3"
  },
  "language_info": {
   "codemirror_mode": {
    "name": "ipython",
    "version": 3
   },
   "file_extension": ".py",
   "mimetype": "text/x-python",
   "name": "python",
   "nbconvert_exporter": "python",
   "pygments_lexer": "ipython3",
   "version": "3.6.8"
  }
 },
 "nbformat": 4,
 "nbformat_minor": 2
}
