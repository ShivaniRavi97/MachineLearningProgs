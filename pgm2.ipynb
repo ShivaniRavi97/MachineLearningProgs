{
 "cells": [
  {
   "cell_type": "code",
   "execution_count": 6,
   "metadata": {},
   "outputs": [
    {
     "name": "stdout",
     "output_type": "stream",
     "text": [
      "S0 : ['sunny' 'warm' 'normal' 'strong' 'warm' 'same']\n",
      "G0 : ['?', '?', '?', '?', '?', '?']\n",
      "S1 : ['sunny' 'warm' '?' 'strong' 'warm' 'same']\n",
      "G1 : ['?', '?', '?', '?', '?', '?']\n",
      "S2 : ['sunny' 'warm' '?' 'strong' 'warm' 'same']\n",
      "G2 : [['sunny', '?', '?', '?', '?', '?'], ['?', 'warm', '?', '?', '?', '?'], ['?', '?', '?', '?', '?', '?'], ['?', '?', '?', '?', '?', '?'], ['?', '?', '?', '?', '?', '?'], ['?', '?', '?', '?', '?', 'same']]\n",
      "S3 : ['sunny' 'warm' '?' 'strong' '?' '?']\n",
      "G3 : [['sunny', '?', '?', '?', '?', '?'], ['?', 'warm', '?', '?', '?', '?'], ['?', '?', '?', '?', '?', '?'], ['?', '?', '?', '?', '?', '?'], ['?', '?', '?', '?', '?', '?'], ['?', '?', '?', '?', '?', '?']]\n",
      "final s:\n",
      "['sunny' 'warm' '?' 'strong' '?' '?']\n",
      "final g:\n",
      "[['sunny', '?', '?', '?', '?', '?'], ['?', 'warm', '?', '?', '?', '?']]\n"
     ]
    }
   ],
   "source": [
    "import numpy as np\n",
    "import pandas as pd\n",
    "data = pd.read_csv('lab2.csv')\n",
    "concepts = np.array(data.iloc[:,0:-1])\n",
    "target = np.array(data.iloc[:,-1])\n",
    "def learn(concepts,target):\n",
    "    count = 0\n",
    "    first = ['?','?','?','?','?','?']\n",
    "    for i, val in enumerate(target):\n",
    "        if val == 'yes':\n",
    "            #print(specific_h)\n",
    "            specific_h = concepts[i].copy()\n",
    "            break\n",
    "    generic_h = [[\"?\" for i in range(len(specific_h))] for i in range (len(specific_h))]\n",
    "    for i,h in enumerate(concepts):\n",
    "        if target[i] == \"yes\":\n",
    "            for x in range(len(specific_h)):\n",
    "                if h[x] != specific_h[x]:\n",
    "                    specific_h[x] = \"?\"\n",
    "                    generic_h[x][x] = \"?\"    \n",
    "        if target[i] == \"no\":\n",
    "            for x in range(len(specific_h)):\n",
    "                if h[x] != specific_h[x]:\n",
    "                    generic_h[x][x] = specific_h[x]\n",
    "                else:\n",
    "                    generic_h[x][x] == \"?\"\n",
    "        if generic_h[x][x] == \"?\":\n",
    "            print(f'S{count} : {specific_h}')\n",
    "            print(f'G{count} : {first}')\n",
    "            count+=1    \n",
    "        else:\n",
    "            print(f'S{count} : {specific_h}')\n",
    "            print(f'G{count} : {generic_h}')\n",
    "            for x in range(len(generic_h)):\n",
    "                first[x] = generic_h[x]\n",
    "            count += 1      \n",
    "    indices=[i for i, val in enumerate(generic_h)if val == ['?','?','?','?','?','?']]\n",
    "    for i in indices:\n",
    "        generic_h.remove(['?','?','?','?','?','?'])\n",
    "    return specific_h, generic_h\n",
    "\n",
    "s_final,g_final = learn(concepts,target)\n",
    "print(\"final s:\",s_final,sep=\"\\n\")\n",
    "print(\"final g:\",g_final,sep=\"\\n\")"
   ]
  },
  {
   "cell_type": "code",
   "execution_count": null,
   "metadata": {},
   "outputs": [],
   "source": []
  },
  {
   "cell_type": "code",
   "execution_count": null,
   "metadata": {},
   "outputs": [],
   "source": []
  }
 ],
 "metadata": {
  "kernelspec": {
   "display_name": "Python 3",
   "language": "python",
   "name": "python3"
  },
  "language_info": {
   "codemirror_mode": {
    "name": "ipython",
    "version": 3
   },
   "file_extension": ".py",
   "mimetype": "text/x-python",
   "name": "python",
   "nbconvert_exporter": "python",
   "pygments_lexer": "ipython3",
   "version": "3.6.8"
  }
 },
 "nbformat": 4,
 "nbformat_minor": 2
}
